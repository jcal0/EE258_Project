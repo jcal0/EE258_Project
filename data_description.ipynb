{
 "cells": [
  {
   "cell_type": "code",
   "execution_count": 3,
   "metadata": {},
   "outputs": [
    {
     "name": "stdout",
     "output_type": "stream",
     "text": [
      "[WinError 2] The system cannot find the file specified: 'dataset'\n",
      "C:\\Users\\Carlo\\EE258_RPS\\dataset\n"
     ]
    }
   ],
   "source": [
    "%pwd \n",
    "%cd dataset"
   ]
  },
  {
   "cell_type": "code",
   "execution_count": 4,
   "metadata": {},
   "outputs": [],
   "source": [
    "import zipfile\n",
    "with zipfile.ZipFile('archive.zip', 'r') as zip_ref:\n",
    "    zip_ref.extractall()"
   ]
  },
  {
   "cell_type": "code",
   "execution_count": 6,
   "metadata": {},
   "outputs": [
    {
     "name": "stdout",
     "output_type": "stream",
     "text": [
      "C:\\Users\\Carlo\\EE258_RPS\\dataset\\Rock-Paper-Scissors\n"
     ]
    }
   ],
   "source": [
    "%cd Rock-Paper-Scissors"
   ]
  },
  {
   "cell_type": "code",
   "execution_count": 24,
   "metadata": {},
   "outputs": [],
   "source": [
    "import os\n",
    "import numpy as np\n",
    "train = np.empty(3, dtype=object) \n",
    "test = np.empty(3, dtype=object) \n",
    "val = np.empty(3, dtype=object) \n",
    "\n",
    "\n",
    "path, dirs, files = next(os.walk(\"train/rock\"))\n",
    "train[0] = len(files)\n",
    "path, dirs, files = next(os.walk(\"train/paper\"))\n",
    "train[1] = len(files)\n",
    "path, dirs, files = next(os.walk(\"train/scissors\"))\n",
    "train[2] = len(files)"
   ]
  },
  {
   "cell_type": "code",
   "execution_count": 22,
   "metadata": {},
   "outputs": [
    {
     "data": {
      "text/plain": [
       "array([840, 840, 840], dtype=object)"
      ]
     },
     "execution_count": 22,
     "metadata": {},
     "output_type": "execute_result"
    }
   ],
   "source": []
  },
  {
   "cell_type": "code",
   "execution_count": 25,
   "metadata": {},
   "outputs": [],
   "source": [
    "path, dirs, files = next(os.walk(\"test/rock\"))\n",
    "test[0] = len(files)\n",
    "path, dirs, files = next(os.walk(\"test/paper\"))\n",
    "test[1] = len(files)\n",
    "path, dirs, files = next(os.walk(\"test/scissors\"))\n",
    "test[2] = len(files)"
   ]
  },
  {
   "cell_type": "code",
   "execution_count": 27,
   "metadata": {},
   "outputs": [
    {
     "data": {
      "text/plain": [
       "['paper-hires1.png',\n",
       " 'paper-hires2.png',\n",
       " 'paper1.png',\n",
       " 'paper2.png',\n",
       " 'paper3.png',\n",
       " 'paper4.png',\n",
       " 'paper5.png',\n",
       " 'paper6.png',\n",
       " 'paper7.png',\n",
       " 'paper8.png',\n",
       " 'paper9.png',\n",
       " 'rock-hires1.png',\n",
       " 'rock-hires2.png',\n",
       " 'rock1.png',\n",
       " 'rock2.png',\n",
       " 'rock3.png',\n",
       " 'rock4.png',\n",
       " 'rock5.png',\n",
       " 'rock6.png',\n",
       " 'rock7.png',\n",
       " 'rock8.png',\n",
       " 'rock9.png',\n",
       " 'scissors-hires1.png',\n",
       " 'scissors-hires2.png',\n",
       " 'scissors1.png',\n",
       " 'scissors2.png',\n",
       " 'scissors3.png',\n",
       " 'scissors4.png',\n",
       " 'scissors5.png',\n",
       " 'scissors6.png',\n",
       " 'scissors7.png',\n",
       " 'scissors8.png',\n",
       " 'scissors9.png']"
      ]
     },
     "execution_count": 27,
     "metadata": {},
     "output_type": "execute_result"
    }
   ],
   "source": [
    "path, dirs, files = next(os.walk(\"validation\"))\n",
    "files"
   ]
  },
  {
   "cell_type": "code",
   "execution_count": 28,
   "metadata": {},
   "outputs": [],
   "source": [
    "val.fill(11)"
   ]
  },
  {
   "cell_type": "code",
   "execution_count": 32,
   "metadata": {},
   "outputs": [],
   "source": [
    "import pandas as pd  \n",
    "dframe = pd.DataFrame( index =['train', 'test', 'validation'], columns = ['rock','paper','scissors'] )  "
   ]
  },
  {
   "cell_type": "code",
   "execution_count": 37,
   "metadata": {},
   "outputs": [
    {
     "data": {
      "text/html": [
       "<div>\n",
       "<style scoped>\n",
       "    .dataframe tbody tr th:only-of-type {\n",
       "        vertical-align: middle;\n",
       "    }\n",
       "\n",
       "    .dataframe tbody tr th {\n",
       "        vertical-align: top;\n",
       "    }\n",
       "\n",
       "    .dataframe thead th {\n",
       "        text-align: right;\n",
       "    }\n",
       "</style>\n",
       "<table border=\"1\" class=\"dataframe\">\n",
       "  <thead>\n",
       "    <tr style=\"text-align: right;\">\n",
       "      <th></th>\n",
       "      <th>rock</th>\n",
       "      <th>paper</th>\n",
       "      <th>scissors</th>\n",
       "    </tr>\n",
       "  </thead>\n",
       "  <tbody>\n",
       "    <tr>\n",
       "      <th>train</th>\n",
       "      <td>840</td>\n",
       "      <td>840</td>\n",
       "      <td>840</td>\n",
       "    </tr>\n",
       "    <tr>\n",
       "      <th>test</th>\n",
       "      <td>124</td>\n",
       "      <td>124</td>\n",
       "      <td>124</td>\n",
       "    </tr>\n",
       "    <tr>\n",
       "      <th>validation</th>\n",
       "      <td>11</td>\n",
       "      <td>11</td>\n",
       "      <td>11</td>\n",
       "    </tr>\n",
       "  </tbody>\n",
       "</table>\n",
       "</div>"
      ],
      "text/plain": [
       "           rock paper scissors\n",
       "train       840   840      840\n",
       "test        124   124      124\n",
       "validation   11    11       11"
      ]
     },
     "execution_count": 37,
     "metadata": {},
     "output_type": "execute_result"
    }
   ],
   "source": [
    "dframe.loc['train'] = train\n",
    "dframe.loc['test'] = test\n",
    "dframe.loc['validation'] = val\n",
    "dframe"
   ]
  },
  {
   "cell_type": "code",
   "execution_count": 58,
   "metadata": {},
   "outputs": [
    {
     "data": {
      "image/png": "[encoded data removed]",
      "text/plain": [
       "<Figure size 576x540 with 1 Axes>"
      ]
     },
     "metadata": {
      "needs_background": "light"
     },
     "output_type": "display_data"
    }
   ],
   "source": [
    "import io\n",
    "import matplotlib.pyplot as plt\n",
    "\n",
    "rps = dframe.T.plot.bar(rot=0, figsize=(8,7.5))"
   ]
  }
 ],
 "metadata": {
  "kernelspec": {
   "display_name": "Python 3 (ipykernel)",
   "language": "python",
   "name": "python3"
  },
  "language_info": {
   "codemirror_mode": {
    "name": "ipython",
    "version": 3
   },
   "file_extension": ".py",
   "mimetype": "text/x-python",
   "name": "python",
   "nbconvert_exporter": "python",
   "pygments_lexer": "ipython3",
   "version": "3.7.6"
  }
 },
 "nbformat": 4,
 "nbformat_minor": 4
}
